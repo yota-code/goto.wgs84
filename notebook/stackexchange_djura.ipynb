{
 "cells": [
  {
   "cell_type": "code",
   "execution_count": 1,
   "metadata": {},
   "outputs": [],
   "source": [
    "import sympy"
   ]
  },
  {
   "cell_type": "code",
   "execution_count": 2,
   "metadata": {},
   "outputs": [],
   "source": [
    "x, y, z, a, b, c, m, n, k, theta = sympy.symbols('x y z a b c m n k theta')"
   ]
  },
  {
   "cell_type": "markdown",
   "metadata": {},
   "source": [
    "The equation of the ellipsoid is "
   ]
  },
  {
   "cell_type": "code",
   "execution_count": 3,
   "metadata": {},
   "outputs": [
    {
     "data": {
      "text/latex": [
       "$\\displaystyle \\frac{y^{2}}{b^{2}} + \\frac{x^{2}}{a^{2}} + \\frac{z^{2}}{a^{2}} = 1$"
      ],
      "text/plain": [
       "Eq(y**2/b**2 + x**2/a**2 + z**2/a**2, 1)"
      ]
     },
     "execution_count": 3,
     "metadata": {},
     "output_type": "execute_result"
    }
   ],
   "source": [
    "ellipsoid_equ = (x/a)**2 + (y/b)**2 + (z/a)**2\n",
    "sympy.Eq(ellipsoid_equ, 1)"
   ]
  },
  {
   "cell_type": "markdown",
   "metadata": {},
   "source": [
    "The equation of the plane is"
   ]
  },
  {
   "cell_type": "code",
   "execution_count": 4,
   "metadata": {},
   "outputs": [
    {
     "data": {
      "text/latex": [
       "$\\displaystyle k z + m x + n y = 0$"
      ],
      "text/plain": [
       "Eq(k*z + m*x + n*y, 0)"
      ]
     },
     "execution_count": 4,
     "metadata": {},
     "output_type": "execute_result"
    }
   ],
   "source": [
    "plane_equ = m*x + n*y + k*z\n",
    "sympy.Eq(plane_equ, 0)"
   ]
  },
  {
   "cell_type": "markdown",
   "metadata": {},
   "source": [
    "The solution for the intersecting ellipse as proposed by [Djura Marinkov](https://math.stackexchange.com/questions/2505548/intersection-of-an-ellipsoid-and-plane-in-parametric-form/2505654) is based on two building vectors:\n",
    "\n",
    "$$\\vec v_1 \\sin \\theta + \\vec v_2 \\cos \\theta \\; \\forall \\theta \\in \\left[ 0 ; 2\\pi \\right[ $$"
   ]
  },
  {
   "cell_type": "code",
   "execution_count": 5,
   "metadata": {},
   "outputs": [
    {
     "data": {
      "text/latex": [
       "$\\displaystyle \\left[\\begin{matrix}\\frac{a k}{\\sqrt{k^{2} + m^{2}}}\\\\0\\\\- \\frac{a m}{\\sqrt{k^{2} + m^{2}}}\\end{matrix}\\right]$"
      ],
      "text/plain": [
       "Matrix([\n",
       "[ a*k/sqrt(k**2 + m**2)],\n",
       "[                     0],\n",
       "[-a*m/sqrt(k**2 + m**2)]])"
      ]
     },
     "execution_count": 5,
     "metadata": {},
     "output_type": "execute_result"
    }
   ],
   "source": [
    "v_1 = sympy.Matrix([\n",
    "    [k*a / sympy.sqrt(k**2 + m**2)],\n",
    "    [0],\n",
    "    [-m*a / sympy.sqrt(k**2 + m**2)]\n",
    "])\n",
    "v_1"
   ]
  },
  {
   "cell_type": "code",
   "execution_count": 6,
   "metadata": {},
   "outputs": [
    {
     "data": {
      "text/latex": [
       "$\\displaystyle \\left[\\begin{matrix}\\frac{m n}{\\sqrt{\\frac{\\left(k^{2} + m^{2}\\right)^{2}}{b^{4}} + \\frac{k^{2} n^{2}}{a^{2}} + \\frac{m^{2} n^{2}}{a^{2}}}}\\\\\\frac{- k^{2} - m^{2}}{\\sqrt{\\frac{\\left(k^{2} + m^{2}\\right)^{2}}{b^{4}} + \\frac{k^{2} n^{2}}{a^{2}} + \\frac{m^{2} n^{2}}{a^{2}}}}\\\\\\frac{k n}{\\sqrt{\\frac{\\left(k^{2} + m^{2}\\right)^{2}}{b^{4}} + \\frac{k^{2} n^{2}}{a^{2}} + \\frac{m^{2} n^{2}}{a^{2}}}}\\end{matrix}\\right]$"
      ],
      "text/plain": [
       "Matrix([\n",
       "[           m*n/sqrt((k**2 + m**2)**2/b**4 + k**2*n**2/a**2 + m**2*n**2/a**2)],\n",
       "[(-k**2 - m**2)/sqrt((k**2 + m**2)**2/b**4 + k**2*n**2/a**2 + m**2*n**2/a**2)],\n",
       "[           k*n/sqrt((k**2 + m**2)**2/b**4 + k**2*n**2/a**2 + m**2*n**2/a**2)]])"
      ]
     },
     "execution_count": 6,
     "metadata": {},
     "output_type": "execute_result"
    }
   ],
   "source": [
    "v_2 = sympy.Matrix([\n",
    "    [m*n],\n",
    "    [-m**2 -k**2],\n",
    "    [k*n]\n",
    "]) / sympy.sqrt((m*n / a)**2 + ((m**2 + k**2)/b**2)**2 + (k*n/a)**2)\n",
    "v_2"
   ]
  },
  {
   "cell_type": "code",
   "execution_count": 7,
   "metadata": {},
   "outputs": [
    {
     "data": {
      "text/latex": [
       "$\\displaystyle \\left[\\begin{matrix}\\frac{a k \\sin{\\left(\\theta \\right)}}{\\sqrt{k^{2} + m^{2}}} + \\frac{m n \\cos{\\left(\\theta \\right)}}{\\sqrt{\\frac{\\left(k^{2} + m^{2}\\right)^{2}}{b^{4}} + \\frac{k^{2} n^{2}}{a^{2}} + \\frac{m^{2} n^{2}}{a^{2}}}}\\\\\\frac{\\left(- k^{2} - m^{2}\\right) \\cos{\\left(\\theta \\right)}}{\\sqrt{\\frac{\\left(k^{2} + m^{2}\\right)^{2}}{b^{4}} + \\frac{k^{2} n^{2}}{a^{2}} + \\frac{m^{2} n^{2}}{a^{2}}}}\\\\- \\frac{a m \\sin{\\left(\\theta \\right)}}{\\sqrt{k^{2} + m^{2}}} + \\frac{k n \\cos{\\left(\\theta \\right)}}{\\sqrt{\\frac{\\left(k^{2} + m^{2}\\right)^{2}}{b^{4}} + \\frac{k^{2} n^{2}}{a^{2}} + \\frac{m^{2} n^{2}}{a^{2}}}}\\end{matrix}\\right]$"
      ],
      "text/plain": [
       "Matrix([\n",
       "[ a*k*sin(theta)/sqrt(k**2 + m**2) + m*n*cos(theta)/sqrt((k**2 + m**2)**2/b**4 + k**2*n**2/a**2 + m**2*n**2/a**2)],\n",
       "[                         (-k**2 - m**2)*cos(theta)/sqrt((k**2 + m**2)**2/b**4 + k**2*n**2/a**2 + m**2*n**2/a**2)],\n",
       "[-a*m*sin(theta)/sqrt(k**2 + m**2) + k*n*cos(theta)/sqrt((k**2 + m**2)**2/b**4 + k**2*n**2/a**2 + m**2*n**2/a**2)]])"
      ]
     },
     "execution_count": 7,
     "metadata": {},
     "output_type": "execute_result"
    }
   ],
   "source": [
    "ellipse = v_1 * sympy.sin(theta) + v_2 * sympy.cos(theta)\n",
    "ellipse"
   ]
  },
  {
   "cell_type": "markdown",
   "metadata": {},
   "source": [
    "## numerical application"
   ]
  },
  {
   "cell_type": "code",
   "execution_count": 8,
   "metadata": {},
   "outputs": [
    {
     "data": {
      "text/latex": [
       "$\\displaystyle x^{2} + \\frac{y^{2}}{16} + z^{2} = 1$"
      ],
      "text/plain": [
       "Eq(x**2 + y**2/16 + z**2, 1)"
      ]
     },
     "execution_count": 8,
     "metadata": {},
     "output_type": "execute_result"
    }
   ],
   "source": [
    "ellipsoid_val = {'a': 1, 'b': 4, 'c': 9}\n",
    "sympy.Eq(ellipsoid_equ.subs(ellipsoid_val), 1)"
   ]
  },
  {
   "cell_type": "code",
   "execution_count": 9,
   "metadata": {},
   "outputs": [
    {
     "data": {
      "text/latex": [
       "$\\displaystyle x + 2 y + 3 z = 0$"
      ],
      "text/plain": [
       "Eq(x + 2*y + 3*z, 0)"
      ]
     },
     "execution_count": 9,
     "metadata": {},
     "output_type": "execute_result"
    }
   ],
   "source": [
    "plane_val = {'m': 1, 'n': 2, 'k': 3}\n",
    "sympy.Eq(plane_equ.subs(plane_val), 0)"
   ]
  },
  {
   "cell_type": "code",
   "execution_count": 10,
   "metadata": {},
   "outputs": [
    {
     "data": {
      "text/latex": [
       "$\\displaystyle \\left[\\begin{matrix}\\frac{3 \\sqrt{10} \\sin{\\left(\\theta \\right)}}{10} + \\frac{16 \\sqrt{2585} \\cos{\\left(\\theta \\right)}}{2585}\\\\- \\frac{16 \\sqrt{2585} \\cos{\\left(\\theta \\right)}}{517}\\\\- \\frac{\\sqrt{10} \\sin{\\left(\\theta \\right)}}{10} + \\frac{48 \\sqrt{2585} \\cos{\\left(\\theta \\right)}}{2585}\\end{matrix}\\right]$"
      ],
      "text/plain": [
       "Matrix([\n",
       "[3*sqrt(10)*sin(theta)/10 + 16*sqrt(2585)*cos(theta)/2585],\n",
       "[                           -16*sqrt(2585)*cos(theta)/517],\n",
       "[ -sqrt(10)*sin(theta)/10 + 48*sqrt(2585)*cos(theta)/2585]])"
      ]
     },
     "execution_count": 10,
     "metadata": {},
     "output_type": "execute_result"
    }
   ],
   "source": [
    "test_vec = ellipse.subs(ellipsoid_val).subs(plane_val)\n",
    "test_vec"
   ]
  },
  {
   "cell_type": "code",
   "execution_count": 11,
   "metadata": {},
   "outputs": [],
   "source": [
    "x_val, y_val, z_val = test_vec\n",
    "test_val = {'x': x_val, 'y': y_val, 'z': z_val}"
   ]
  },
  {
   "cell_type": "code",
   "execution_count": 12,
   "metadata": {},
   "outputs": [
    {
     "data": {
      "text/latex": [
       "$\\displaystyle \\frac{\\pi}{2}$"
      ],
      "text/plain": [
       "pi/2"
      ]
     },
     "execution_count": 12,
     "metadata": {},
     "output_type": "execute_result"
    }
   ],
   "source": [
    "theta_val = sympy.pi / 2\n",
    "theta_val"
   ]
  },
  {
   "cell_type": "code",
   "execution_count": 13,
   "metadata": {},
   "outputs": [
    {
     "data": {
      "text/latex": [
       "$\\displaystyle 1$"
      ],
      "text/plain": [
       "1"
      ]
     },
     "execution_count": 13,
     "metadata": {},
     "output_type": "execute_result"
    }
   ],
   "source": [
    "ellipsoid_equ.subs(test_val).subs(ellipsoid_val).subs(plane_val).subs({'theta': theta_val})"
   ]
  },
  {
   "cell_type": "code",
   "execution_count": 14,
   "metadata": {},
   "outputs": [
    {
     "data": {
      "text/latex": [
       "$\\displaystyle 0$"
      ],
      "text/plain": [
       "0"
      ]
     },
     "execution_count": 14,
     "metadata": {},
     "output_type": "execute_result"
    }
   ],
   "source": [
    "plane_equ.subs(test_val).subs(ellipsoid_val).subs(plane_val).subs({'theta': theta_val})"
   ]
  },
  {
   "cell_type": "code",
   "execution_count": 15,
   "metadata": {},
   "outputs": [
    {
     "data": {
      "text/plain": [
       "0"
      ]
     },
     "execution_count": 15,
     "metadata": {},
     "output_type": "execute_result"
    }
   ],
   "source": [
    "theta_val = 0\n",
    "theta_val"
   ]
  },
  {
   "cell_type": "code",
   "execution_count": 16,
   "metadata": {},
   "outputs": [
    {
     "data": {
      "text/latex": [
       "$\\displaystyle \\frac{592}{517}$"
      ],
      "text/plain": [
       "592/517"
      ]
     },
     "execution_count": 16,
     "metadata": {},
     "output_type": "execute_result"
    }
   ],
   "source": [
    "ellipsoid_equ.subs(test_val).subs(ellipsoid_val).subs(plane_val).subs({'theta': theta_val})"
   ]
  },
  {
   "cell_type": "code",
   "execution_count": 17,
   "metadata": {},
   "outputs": [
    {
     "data": {
      "text/latex": [
       "$\\displaystyle 0$"
      ],
      "text/plain": [
       "0"
      ]
     },
     "execution_count": 17,
     "metadata": {},
     "output_type": "execute_result"
    }
   ],
   "source": [
    "plane_equ.subs(test_val).subs(ellipsoid_val).subs(plane_val).subs({'theta': theta_val})"
   ]
  },
  {
   "cell_type": "code",
   "execution_count": null,
   "metadata": {},
   "outputs": [],
   "source": []
  },
  {
   "cell_type": "code",
   "execution_count": null,
   "metadata": {},
   "outputs": [],
   "source": []
  }
 ],
 "metadata": {
  "kernelspec": {
   "display_name": "Python 3",
   "language": "python",
   "name": "python3"
  },
  "language_info": {
   "codemirror_mode": {
    "name": "ipython",
    "version": 3
   },
   "file_extension": ".py",
   "mimetype": "text/x-python",
   "name": "python",
   "nbconvert_exporter": "python",
   "pygments_lexer": "ipython3",
   "version": "3.8.5"
  }
 },
 "nbformat": 4,
 "nbformat_minor": 4
}
